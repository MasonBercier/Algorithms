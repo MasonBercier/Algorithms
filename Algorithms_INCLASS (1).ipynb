{
 "cells": [
  {
   "cell_type": "markdown",
   "metadata": {},
   "source": [
    "# Algorithms, Binary Search & Linked Lists"
   ]
  },
  {
   "cell_type": "markdown",
   "metadata": {},
   "source": [
    "## Tasks Today:\n",
    " \n",
    "1) <b>In-Place Algorithms</b> <br>\n",
    " &nbsp;&nbsp;&nbsp;&nbsp; a) Syntax <br>\n",
    " &nbsp;&nbsp;&nbsp;&nbsp; a) Out of Place Algorithm <br>\n",
    " &nbsp;&nbsp;&nbsp;&nbsp; b) In-Class Exercise #1 <br>\n",
    "2) <b>Two Pointers</b> <br>\n",
    "3) <b>Linked Lists</b> <br>\n",
    "4) <b>Merge Sort</b> <br>\n",
    " &nbsp;&nbsp;&nbsp;&nbsp; a) Video on Algorithms <br>\n",
    " &nbsp;&nbsp;&nbsp;&nbsp; b) How it Works <br>\n",
    "5) <b>Exercises</b> <br>\n",
    " &nbsp;&nbsp;&nbsp;&nbsp; a) Exercise #1 - Reverse a List in Place Using an In-Place Algorithm <br>\n",
    " &nbsp;&nbsp;&nbsp;&nbsp; b) Exercise #2 - Find Distinct Words <br>\n",
    " &nbsp;&nbsp;&nbsp;&nbsp; c) Exercise #3 - Write a program to implement a Linear Search Algorithm. <br>"
   ]
  },
  {
   "cell_type": "markdown",
   "metadata": {},
   "source": [
    "## In-Place Algorithms"
   ]
  },
  {
   "cell_type": "markdown",
   "metadata": {},
   "source": [
    "#### Syntax"
   ]
  },
  {
   "cell_type": "code",
   "execution_count": 4,
   "metadata": {},
   "outputs": [
    {
     "name": "stdout",
     "output_type": "stream",
     "text": [
      "2240836403440\n",
      "2240836403472\n",
      "[3, 2, 1]\n"
     ]
    }
   ],
   "source": [
    "#in place or swap alogrithms\n",
    "#any mutable data set\n",
    "a = 1\n",
    "print(id(a))\n",
    "a = 2\n",
    "print(id(a))\n",
    "\n",
    "def swap(a_list, x, y, z):\n",
    "    a_list[x], a_list[y], a_list[z] = a_list[z], a_list[y], a_list[x]\n",
    "    return a_list\n",
    "my_list = [1,2,3]\n",
    "print(swap(my_list, 0, 1, 2))"
   ]
  },
  {
   "cell_type": "markdown",
   "metadata": {},
   "source": [
    "#### Out of Place Algorithm"
   ]
  },
  {
   "cell_type": "code",
   "execution_count": 6,
   "metadata": {},
   "outputs": [
    {
     "name": "stdout",
     "output_type": "stream",
     "text": [
      "['e', 'd', 'c', 'b', 'a']\n"
     ]
    }
   ],
   "source": [
    "\n",
    "myList = ['a','b','c','d','e']\n",
    "newList = myList[::-1]\n",
    "print(newList)"
   ]
  },
  {
   "cell_type": "markdown",
   "metadata": {},
   "source": [
    "#### In-Class Exercise #1 <br>\n",
    "<p>Write a function that takes in four arguments (list, index1, index2, index3), and swaps those three positions in the list passed in.</p>"
   ]
  },
  {
   "cell_type": "code",
   "execution_count": 8,
   "metadata": {},
   "outputs": [
    {
     "data": {
      "text/plain": [
       "[10, 4, 8, 3, 4, 2, 6]"
      ]
     },
     "execution_count": 8,
     "metadata": {},
     "output_type": "execute_result"
    }
   ],
   "source": [
    "# l_1 = [10, 4, 3, 8, 4, 2, 6]\n",
    "# def newSwap(list, x, y, z):\n",
    "#     list[x], list[y], list[z] = list[z], list[y], list[x]\n",
    "#     return list\n",
    "# newSwap(l_1, 2, 4, 3)\n"
   ]
  },
  {
   "cell_type": "markdown",
   "metadata": {},
   "source": [
    "## Two Pointers"
   ]
  },
  {
   "cell_type": "markdown",
   "metadata": {},
   "source": [
    "#### Syntax"
   ]
  },
  {
   "cell_type": "code",
   "execution_count": 9,
   "metadata": {},
   "outputs": [
    {
     "name": "stdout",
     "output_type": "stream",
     "text": [
      "[11, 10, 9, 8, 7, 6, 5, 4, 3, 2, 1]\n"
     ]
    }
   ],
   "source": [
    "testList = [1,2,3,4,5,6,7,8,9,10,11]\n",
    "\n",
    "def twoPoint(a_list):\n",
    "    left = 0\n",
    "    right = len(a_list) - 1\n",
    "    while left <= right:\n",
    "        a_list[left], a_list[right] = a_list[right], a_list[left]\n",
    "        left += 1\n",
    "        right -= 1\n",
    "    return a_list\n",
    "print(twoPoint(testList))"
   ]
  },
  {
   "cell_type": "markdown",
   "metadata": {},
   "source": [
    "#### Video of Algorithms <br>\n",
    "<p>Watch the video about algorithms.</p>\n",
    "\n",
    "https://www.youtube.com/watch?v=Q9HjeFD62Uk\n",
    "\n",
    "https://www.youtube.com/watch?v=kPRA0W1kECg\n",
    "\n",
    "https://www.youtube.com/watch?v=ZZuD6iUe3Pc"
   ]
  },
  {
   "cell_type": "markdown",
   "metadata": {},
   "source": [
    "# Sorting Algorithms"
   ]
  },
  {
   "cell_type": "markdown",
   "metadata": {},
   "source": [
    "#### Bubble Sort\n",
    "\n",
    "Worst Case: O(n^2) Time - O(1) Space"
   ]
  },
  {
   "cell_type": "code",
   "execution_count": 13,
   "metadata": {},
   "outputs": [
    {
     "name": "stdout",
     "output_type": "stream",
     "text": [
      "1\n",
      "[2, 7, 12, 5, 8, 9, 6]\n",
      "[2, 7, 12, 5, 8, 9, 6]\n",
      "[2, 7, 5, 12, 8, 9, 6]\n",
      "[2, 7, 5, 8, 12, 9, 6]\n",
      "[2, 7, 5, 8, 9, 12, 6]\n",
      "[2, 7, 5, 8, 9, 6, 12]\n",
      "2\n",
      "[2, 7, 5, 8, 9, 6, 12]\n",
      "[2, 5, 7, 8, 9, 6, 12]\n",
      "[2, 5, 7, 8, 9, 6, 12]\n",
      "[2, 5, 7, 8, 9, 6, 12]\n",
      "[2, 5, 7, 8, 6, 9, 12]\n",
      "[2, 5, 7, 8, 6, 9, 12]\n",
      "3\n",
      "[2, 5, 7, 8, 6, 9, 12]\n",
      "[2, 5, 7, 8, 6, 9, 12]\n",
      "[2, 5, 7, 8, 6, 9, 12]\n",
      "[2, 5, 7, 6, 8, 9, 12]\n",
      "[2, 5, 7, 6, 8, 9, 12]\n",
      "[2, 5, 7, 6, 8, 9, 12]\n",
      "4\n",
      "[2, 5, 7, 6, 8, 9, 12]\n",
      "[2, 5, 7, 6, 8, 9, 12]\n",
      "[2, 5, 6, 7, 8, 9, 12]\n",
      "[2, 5, 6, 7, 8, 9, 12]\n",
      "[2, 5, 6, 7, 8, 9, 12]\n",
      "[2, 5, 6, 7, 8, 9, 12]\n",
      "5\n",
      "[2, 5, 6, 7, 8, 9, 12]\n",
      "[2, 5, 6, 7, 8, 9, 12]\n",
      "[2, 5, 6, 7, 8, 9, 12]\n",
      "[2, 5, 6, 7, 8, 9, 12]\n",
      "[2, 5, 6, 7, 8, 9, 12]\n",
      "[2, 5, 6, 7, 8, 9, 12]\n",
      "[2, 5, 6, 7, 8, 9, 12]\n"
     ]
    }
   ],
   "source": [
    "\n",
    "def bubble(aList):\n",
    "    isSorted = False\n",
    "    passes = 0\n",
    "    while not isSorted:\n",
    "        passes += 1\n",
    "        print(passes)\n",
    "        isSorted = True\n",
    "        for i in range(len(aList)- 1):\n",
    "    \n",
    "            if aList[i] > aList[i+1]:\n",
    "                swap(i, i+1, aList)\n",
    "                isSorted = False\n",
    "            print(aList)\n",
    "    return aList\n",
    "            \n",
    "def swap(i, j, aList):\n",
    "    aList[i], aList[j] = aList[j], aList[i]\n",
    "\n",
    "testList = [2,7,12,5,8,9,6]\n",
    "print(bubble(testList))"
   ]
  },
  {
   "cell_type": "markdown",
   "metadata": {},
   "source": [
    "##### Insertion Sort\n",
    "\n",
    "Worst Case: O(n^2) time - O(1)space"
   ]
  },
  {
   "cell_type": "code",
   "execution_count": 15,
   "metadata": {},
   "outputs": [
    {
     "name": "stdout",
     "output_type": "stream",
     "text": [
      "[2, 5, 6, 7, 8, 9, 12]\n"
     ]
    }
   ],
   "source": [
    "def insert(lister):\n",
    "    for i in range(1,len(lister)):\n",
    "        while i > 0 and lister[i] < lister[i - 1]:\n",
    "            swap(i, i - 1, lister)\n",
    "            i -= 1\n",
    "    return lister\n",
    "def swap(i, j, aList):\n",
    "    aList[i], aList[j] = aList[j], aList[i]\n",
    "\n",
    "print(insert(testList))"
   ]
  },
  {
   "cell_type": "markdown",
   "metadata": {},
   "source": [
    "## Merge Sort"
   ]
  },
  {
   "cell_type": "markdown",
   "metadata": {},
   "source": [
    "#### How it Works"
   ]
  },
  {
   "cell_type": "code",
   "execution_count": 39,
   "metadata": {},
   "outputs": [
    {
     "data": {
      "text/plain": [
       "[2, 3, 5, 5, 6, 8, 9]"
      ]
     },
     "execution_count": 39,
     "metadata": {},
     "output_type": "execute_result"
    }
   ],
   "source": [
    "# a_list = [8, 5, 2, 9, 5, 6, 3]\n",
    "\n",
    "# Step 1: Split everything into it's own group\n",
    "# Step 2: From left to right merge two groups together\n",
    "# Step 3: While merging, place each item in the correct position\n",
    "\n",
    "# Step 1: Divide the a_list into equal parts (as much as possible)\n",
    "def mergeSort(a_list):\n",
    "    if len(a_list) > 1:\n",
    "        middle = len(a_list) // 2\n",
    "        left_half = a_list[:middle]\n",
    "        right_half = a_list[middle:]\n",
    "        \n",
    "        # recursively call mergeSort to perform splits\n",
    "        # then merge once splits are done\n",
    "        mergeSort(left_half)\n",
    "        mergeSort(right_half)\n",
    "        \n",
    "        # index pointers for our a_list\n",
    "        i = 0 # pointer for left half\n",
    "        j = 0 # pointer for right half\n",
    "        k = 0 # pointer for main a_list\n",
    "        \n",
    "        # Step 2: Compare the left_half and right_half\n",
    "        while i < len(left_half) and j < len(right_half):\n",
    "            if left_half[i] < right_half[j]:\n",
    "                a_list[k] = left_half[i]\n",
    "                i += 1\n",
    "            else:\n",
    "                a_list[k] = right_half[j]\n",
    "                j += 1\n",
    "            k += 1\n",
    "        \n",
    "        # Step 3: While merging place items in correct position\n",
    "        while i < len(left_half):\n",
    "            a_list[k] = left_half[i]\n",
    "            i += 1\n",
    "            k += 1\n",
    "        while j < len(right_half):\n",
    "            a_list[k] = right_half[j]\n",
    "            j += 1\n",
    "            k += 1\n",
    "    return a_list\n",
    "\n",
    "mergeSort([8, 5, 2, 9, 5, 6, 3])"
   ]
  },
  {
   "cell_type": "markdown",
   "metadata": {},
   "source": [
    "# Binary Search\n",
    "\n",
    "The Binary Search algorithm works by finding the number in the middle of a given array and comparing it to the target. Given that the array is sorted\n",
    "\n",
    "* The worst case run time for this algorithm is `O(log(n))`"
   ]
  },
  {
   "cell_type": "code",
   "execution_count": 28,
   "metadata": {},
   "outputs": [
    {
     "name": "stdout",
     "output_type": "stream",
     "text": [
      "Found 33 at index 3\n"
     ]
    }
   ],
   "source": [
    "def binarySearch(a_list, target):\n",
    "    left = 0\n",
    "    right = len(a_list)\n",
    "    while left <= right:\n",
    "        middle = (left + right) // 2\n",
    "        potential_match = a_list[middle]\n",
    "        if target == potential_match:\n",
    "            return f'Found {target} at index {middle}'\n",
    "        elif target < potential_match:\n",
    "            right = middle - 1\n",
    "        else:\n",
    "            left = middle + 1\n",
    "    return -1\n",
    "\n",
    "print(binarySearch([0, 1, 21, 33, 45, 45, 61, 71, 72, 73], 33))"
   ]
  },
  {
   "cell_type": "markdown",
   "metadata": {},
   "source": [
    "# Exercises"
   ]
  },
  {
   "cell_type": "markdown",
   "metadata": {},
   "source": [
    "### Exercise #1 <br>\n",
    "<p>Reverse the list below in-place using an in-place algorithm.<br>For extra credit: Reverse the strings at the same time.</p>"
   ]
  },
  {
   "cell_type": "code",
   "execution_count": 11,
   "metadata": {},
   "outputs": [
    {
     "name": "stdout",
     "output_type": "stream",
     "text": [
      "['.', 'sentence', 'a', 'is', 'this']\n"
     ]
    }
   ],
   "source": [
    "words = ['this' , 'is', 'a', 'sentence', '.']\n",
    "def twoPoint(a_list):\n",
    "    left = 0\n",
    "    right = len(a_list) - 1\n",
    "    while left <= right:\n",
    "        a_list[left], a_list[right] = a_list[right], a_list[left]\n",
    "        left += 1\n",
    "        right -= 1\n",
    "    return a_list\n",
    "print(twoPoint(words))"
   ]
  },
  {
   "cell_type": "markdown",
   "metadata": {},
   "source": [
    "### Exercise #2 <br>\n",
    "<p>Create a function that counts how many distinct words are in the string below, then outputs a dictionary with the words as the key and the value as the amount of times that word appears in the string.<br>Should output:<br>{'a': 5,<br>\n",
    " 'abstract': 1,<br>\n",
    " 'an': 3,<br>\n",
    " 'array': 2, ... etc...</p>"
   ]
  },
  {
   "cell_type": "code",
   "execution_count": 26,
   "metadata": {},
   "outputs": [
    {
     "name": "stdout",
     "output_type": "stream",
     "text": [
      "{'In': 1, 'computing,': 1, 'a': 2, 'hash': 2, 'table': 2, 'map': 2, 'is': 1, 'data': 2, 'structure': 2, 'which': 2, 'implements': 1, 'an': 2, 'associative': 1, 'array': 2, 'abstract': 1, 'type,': 1, 'that': 1, 'can': 2, 'keys': 1, 'to': 2, 'values.': 1, 'A': 1, 'uses': 1, 'function': 1, 'compute': 1, 'index': 1, 'into': 1, 'of': 1, 'buckets': 1, 'or': 1, 'slots': 1, 'from': 1, 'the': 1, 'desired': 1, 'value': 1, 'be': 1, 'found': 1}\n"
     ]
    }
   ],
   "source": [
    "a_text = 'In computing, a hash table hash map is a data structure which implements an associative array abstract data type, a structure that can map keys to values. A hash table uses a hash function to compute an index into an array of buckets or slots from which the desired value can be found'\n",
    "\n",
    "def wordCount(a_text):\n",
    "    # words = a_text.split(\" \") for whatever reason this returns a count by character instead of by word.\n",
    "    newDict = {}\n",
    "    for words in a_text.split(): #moving th esplit here seems to fix the problem\n",
    "        if words not in newDict:\n",
    "            count = 1\n",
    "            newDict[words] = count\n",
    "        else:\n",
    "            newDict[words] = count + 1\n",
    "    print(newDict)\n",
    "wordCount(a_text)"
   ]
  },
  {
   "cell_type": "markdown",
   "metadata": {},
   "source": [
    "## Exercise #3\n",
    "\n",
    "Write a program to implement a Linear Search Algorithm. Also in a comment, write the Time Complexity of the following algorithm.\n",
    "\n",
    "#### Hint: Linear Searching will require searching a list for a given number. "
   ]
  },
  {
   "cell_type": "code",
   "execution_count": 38,
   "metadata": {},
   "outputs": [
    {
     "data": {
      "text/plain": [
       "61"
      ]
     },
     "execution_count": 38,
     "metadata": {},
     "output_type": "execute_result"
    }
   ],
   "source": [
    "def searchLine(a_list, num):\n",
    "    for i in range(len(a_list)):\n",
    "        if a_list[i] == num:\n",
    "            return num\n",
    "    return \"Not found\"\n",
    "\n",
    "a_list = [0, 1, 21, 33, 45, 45, 61, 71, 72, 73]\n",
    "searchLine(a_list, 61)\n",
    "\n",
    "#time complexity 0.0s\n",
    "#not sure if that's what you meant\n"
   ]
  }
 ],
 "metadata": {
  "kernelspec": {
   "display_name": "Python 3",
   "language": "python",
   "name": "python3"
  },
  "language_info": {
   "codemirror_mode": {
    "name": "ipython",
    "version": 3
   },
   "file_extension": ".py",
   "mimetype": "text/x-python",
   "name": "python",
   "nbconvert_exporter": "python",
   "pygments_lexer": "ipython3",
   "version": "3.10.6"
  },
  "vscode": {
   "interpreter": {
    "hash": "47bf9465a07b57669b0e1d698703dd8dabb51977bd99a06702fb496f426eb3a3"
   }
  }
 },
 "nbformat": 4,
 "nbformat_minor": 2
}
